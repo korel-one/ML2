{
 "cells": [
  {
   "cell_type": "code",
   "execution_count": 1,
   "metadata": {
    "collapsed": true
   },
   "outputs": [],
   "source": [
    "%matplotlib inline\n",
    "import matplotlib.image as mpimg\n",
    "import numpy as np\n",
    "import matplotlib.pyplot as plt\n",
    "import os,sys\n",
    "from PIL import Image"
   ]
  },
  {
   "cell_type": "code",
   "execution_count": 2,
   "metadata": {
    "collapsed": true
   },
   "outputs": [],
   "source": [
    "# Loaded a set of images\n",
    "root_dir = \"training/\"\n",
    "image_dir = root_dir + \"images/\"\n",
    "gt_dir = root_dir + \"groundtruth/\""
   ]
  },
  {
   "cell_type": "code",
   "execution_count": 3,
   "metadata": {
    "collapsed": true
   },
   "outputs": [],
   "source": [
    "files = os.listdir(image_dir)"
   ]
  },
  {
   "cell_type": "code",
   "execution_count": 4,
   "metadata": {
    "collapsed": true
   },
   "outputs": [],
   "source": [
    "def load_image(infilename):\n",
    "    data = mpimg.imread(infilename)\n",
    "    return data"
   ]
  },
  {
   "cell_type": "code",
   "execution_count": 5,
   "metadata": {
    "collapsed": false
   },
   "outputs": [
    {
     "name": "stdout",
     "output_type": "stream",
     "text": [
      "satImage_001.png\n",
      "satImage_001.png\n"
     ]
    }
   ],
   "source": [
    "imgs = [load_image(image_dir + files[i]) for i in range(len(files))]\n",
    "print(files[0])\n",
    "\n",
    "gt_imgs = [load_image(gt_dir + files[i]) for i in range(len(files))]\n",
    "print(files[0])\n",
    "\n",
    "# n = 10 # Only use 10 images for training"
   ]
  },
  {
   "cell_type": "code",
   "execution_count": 6,
   "metadata": {
    "collapsed": true
   },
   "outputs": [],
   "source": [
    "# Extract patches from input images\n",
    "patch_size = 16 # each patch is 16*16 pixels"
   ]
  },
  {
   "cell_type": "code",
   "execution_count": 7,
   "metadata": {
    "collapsed": true
   },
   "outputs": [],
   "source": [
    "def img_crop(im, w, h):\n",
    "    list_patches = []\n",
    "    imgwidth = im.shape[0]\n",
    "    imgheight = im.shape[1]\n",
    "    is_2d = len(im.shape) < 3\n",
    "    for i in range(0,imgheight,h):\n",
    "        for j in range(0,imgwidth,w):\n",
    "            if is_2d:\n",
    "                im_patch = im[j:j+w, i:i+h]\n",
    "            else:\n",
    "                im_patch = im[j:j+w, i:i+h, :]\n",
    "            list_patches.append(im_patch)\n",
    "    return list_patches"
   ]
  },
  {
   "cell_type": "code",
   "execution_count": 8,
   "metadata": {
    "collapsed": false
   },
   "outputs": [
    {
     "data": {
      "text/plain": [
       "(400, 400, 3)"
      ]
     },
     "execution_count": 8,
     "metadata": {},
     "output_type": "execute_result"
    }
   ],
   "source": [
    "imgs[0].shape"
   ]
  },
  {
   "cell_type": "code",
   "execution_count": 9,
   "metadata": {
    "collapsed": true
   },
   "outputs": [],
   "source": [
    "img_patches = [img_crop(imgs[i], patch_size, patch_size) for i in range(len(imgs))]\n",
    "gt_patches = [img_crop(gt_imgs[i], patch_size, patch_size) for i in range(len(gt_imgs))]"
   ]
  },
  {
   "cell_type": "code",
   "execution_count": 11,
   "metadata": {
    "collapsed": false
   },
   "outputs": [
    {
     "data": {
      "text/plain": [
       "625"
      ]
     },
     "execution_count": 11,
     "metadata": {},
     "output_type": "execute_result"
    }
   ],
   "source": [
    "len(img_patches[0])"
   ]
  },
  {
   "cell_type": "code",
   "execution_count": 12,
   "metadata": {
    "collapsed": true
   },
   "outputs": [],
   "source": [
    "# Linearize list of patches\n",
    "img_patches = np.asarray([img_patches[i][j] for i in range(len(img_patches)) for j in range(len(img_patches[i]))])\n",
    "gt_patches =  np.asarray([gt_patches[i][j] for i in range(len(gt_patches)) for j in range(len(gt_patches[i]))])"
   ]
  },
  {
   "cell_type": "code",
   "execution_count": 17,
   "metadata": {
    "collapsed": true
   },
   "outputs": [],
   "source": [
    "def build_k_indices(N, k_fold, seed):\n",
    "    interval = int(N/k_fold)\n",
    "    np.random.seed(seed)\n",
    "    \n",
    "    indices = np.random.permutation(N)\n",
    "\n",
    "    k_indices = None\n",
    "    if N%k_fold == 0:\n",
    "        k_indices = [indices[k * interval: (k + 1) * interval] for k in range(k_fold)]\n",
    "    else:\n",
    "        k_indices = [indices[k * interval: (k + 1) * interval] for k in range(k_fold-1)]\n",
    "        k_indices.append(indices[(k_fold-1)*interval : N])\n",
    "    return np.array(k_indices)"
   ]
  },
  {
   "cell_type": "code",
   "execution_count": 13,
   "metadata": {
    "collapsed": true
   },
   "outputs": [],
   "source": [
    "from sklearn import linear_model"
   ]
  },
  {
   "cell_type": "code",
   "execution_count": 25,
   "metadata": {
    "collapsed": true
   },
   "outputs": [],
   "source": [
    "foreground_threshold = 0.25\n",
    "\n",
    "def value_to_class(v):\n",
    "    df = np.sum(v)\n",
    "    if df > foreground_threshold:\n",
    "        return 1\n",
    "    else:\n",
    "        return 0"
   ]
  },
  {
   "cell_type": "code",
   "execution_count": 21,
   "metadata": {
    "collapsed": true
   },
   "outputs": [],
   "source": [
    "# Extract 6-dimensional features consisting of average RGB color as well as variance\n",
    "def extract_features(img):\n",
    "    feat_m = np.mean(img, axis=(0,1))\n",
    "    feat_v = np.var(img, axis=(0,1))\n",
    "    feat = np.append(feat_m, feat_v)\n",
    "    return feat\n",
    "\n",
    "# Extract 2-dimensional features consisting of average gray color as well as variance\n",
    "def extract_features_2d(img):\n",
    "    feat_m = np.mean(img)\n",
    "    feat_v = np.var(img)\n",
    "    feat = np.append(feat_m, feat_v)\n",
    "    return feat\n",
    "\n",
    "# Extract features for a given image\n",
    "def extract_img_features(filename):\n",
    "    img = load_image(filename)\n",
    "    img_patches = img_crop(img, patch_size, patch_size)\n",
    "    X = np.asarray([ extract_features_2d(img_patches[i]) for i in range(len(img_patches))])\n",
    "    return X"
   ]
  },
  {
   "cell_type": "code",
   "execution_count": 30,
   "metadata": {
    "collapsed": true
   },
   "outputs": [],
   "source": [
    "_X = np.asarray([ extract_features_2d(img_patches[i]) for i in range(len(img_patches))])\n",
    "_Y = np.asarray([value_to_class(np.mean(gt_patches[i])) for i in range(len(gt_patches))])"
   ]
  },
  {
   "cell_type": "code",
   "execution_count": 43,
   "metadata": {
    "collapsed": false
   },
   "outputs": [
    {
     "data": {
      "text/plain": [
       "array([ 0.19116116,  0.01471492], dtype=float32)"
      ]
     },
     "execution_count": 43,
     "metadata": {},
     "output_type": "execute_result"
    }
   ],
   "source": [
    "_X[0]"
   ]
  },
  {
   "cell_type": "code",
   "execution_count": 31,
   "metadata": {
    "collapsed": true
   },
   "outputs": [],
   "source": [
    "from sklearn.metrics import recall_score, precision_score"
   ]
  },
  {
   "cell_type": "code",
   "execution_count": 98,
   "metadata": {
    "collapsed": true
   },
   "outputs": [],
   "source": [
    "def cross_validation(X, Y, k_indices, k\n",
    "                     , model = linear_model.LogisticRegression(C=1e5, class_weight=\"balanced\")):\n",
    "    \n",
    "    testing_im = X[k_indices[k]].tolist()\n",
    "    testing_gt = Y[k_indices[k]].tolist()\n",
    "    \n",
    "    training_im = []\n",
    "    training_gt = []\n",
    "    for j in range(len(k_indices)):\n",
    "        if j != k:\n",
    "            training_im += X[k_indices[j]].tolist()\n",
    "            training_gt += Y[k_indices[j]].tolist()\n",
    "\n",
    "    model.fit(training_im, training_gt)\n",
    "    prediction = model.predict(testing_im)\n",
    "    \n",
    "    #TODO: refactor\n",
    "    testing_gt = np.array(testing_gt)\n",
    "    fp = calc_fp(prediction, testing_gt)\n",
    "    fn = calc_fn(prediction, testing_gt)\n",
    "    tp = calc_tp(prediction, testing_gt)\n",
    "    \n",
    "    print(fp, tp, fn)\n",
    "    r = recall(tp, fn)\n",
    "    p = precision(tp, fp)\n",
    "    score = f_mean(p, r)\n",
    "    \n",
    "    return r, p, score"
   ]
  },
  {
   "cell_type": "code",
   "execution_count": 88,
   "metadata": {
    "collapsed": true
   },
   "outputs": [],
   "source": [
    "def cross_validation_demo():\n",
    "    seed = 1\n",
    "    k_fold = 4\n",
    "    \n",
    "    k_indices = build_k_indices(img_patches.shape[0], k_fold, seed)\n",
    "\n",
    "    res = []\n",
    "    for k in range(k_fold):\n",
    "        res.append(cross_validation(_X, _Y, k_indices, k))\n",
    "    return res"
   ]
  },
  {
   "cell_type": "code",
   "execution_count": 102,
   "metadata": {
    "collapsed": false
   },
   "outputs": [
    {
     "name": "stdout",
     "output_type": "stream",
     "text": [
      "5755 2793 1284\n",
      "5783 2803 1250\n",
      "5789 2757 1311\n",
      "5671 2778 1215\n"
     ]
    },
    {
     "data": {
      "text/plain": [
       "[(0.6850625459896983, 0.32674309780065514, 0.4424554455445545),\n",
       " (0.6915864791512459, 0.3264616818075938, 0.44354774903077776),\n",
       " (0.6777286135693216, 0.32260706763398084, 0.4371333439035992),\n",
       " (0.695717505634861, 0.32879630725529646, 0.4465520012859669)]"
      ]
     },
     "execution_count": 102,
     "metadata": {},
     "output_type": "execute_result"
    }
   ],
   "source": [
    "Z = cross_validation_demo()\n",
    "Z"
   ]
  },
  {
   "cell_type": "code",
   "execution_count": 84,
   "metadata": {
    "collapsed": true
   },
   "outputs": [],
   "source": [
    "def calc_tp(pred, true):\n",
    "    p1 = np.where(pred == 1)\n",
    "    t1 = np.where(true == 1)\n",
    "    \n",
    "    tp = set(p1[0].tolist()) & set(t1[0].tolist())\n",
    "    return len(tp)"
   ]
  },
  {
   "cell_type": "code",
   "execution_count": 100,
   "metadata": {
    "collapsed": true
   },
   "outputs": [],
   "source": [
    "def calc_fn(pred, true):\n",
    "    p0 = np.where(pred == 0)\n",
    "    t1 = np.where(true == 1)\n",
    "    \n",
    "    fn = set(p0[0].tolist()) & set(t1[0].tolist())\n",
    "    return len(fn)"
   ]
  },
  {
   "cell_type": "code",
   "execution_count": 77,
   "metadata": {
    "collapsed": false
   },
   "outputs": [],
   "source": [
    "recall = lambda tp, fn: tp/(tp + fn)\n",
    "precision = lambda tp, fp: tp/(tp + fp)\n",
    "f_mean = lambda p, r: 2*p*r/(p+r)"
   ]
  },
  {
   "cell_type": "code",
   "execution_count": 101,
   "metadata": {
    "collapsed": true
   },
   "outputs": [],
   "source": [
    "def calc_fp(pred, true):\n",
    "    p1 = np.where(pred == 1)\n",
    "    t0 = np.where(true == 0)\n",
    "    \n",
    "    fp = set(p1[0].tolist()) & set(t0[0].tolist())\n",
    "    return len(fp)"
   ]
  }
 ],
 "metadata": {
  "anaconda-cloud": {},
  "kernelspec": {
   "display_name": "Python [Root]",
   "language": "python",
   "name": "Python [Root]"
  },
  "language_info": {
   "codemirror_mode": {
    "name": "ipython",
    "version": 3
   },
   "file_extension": ".py",
   "mimetype": "text/x-python",
   "name": "python",
   "nbconvert_exporter": "python",
   "pygments_lexer": "ipython3",
   "version": "3.5.2"
  }
 },
 "nbformat": 4,
 "nbformat_minor": 0
}
