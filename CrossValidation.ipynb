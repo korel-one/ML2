{
 "cells": [
  {
   "cell_type": "code",
   "execution_count": 1,
   "metadata": {
    "collapsed": true
   },
   "outputs": [],
   "source": [
    "%matplotlib inline\n",
    "import matplotlib.image as mpimg\n",
    "import numpy as np\n",
    "import matplotlib.pyplot as plt\n",
    "import os,sys\n",
    "from PIL import Image"
   ]
  },
  {
   "cell_type": "code",
   "execution_count": 2,
   "metadata": {
    "collapsed": true
   },
   "outputs": [],
   "source": [
    "from skimage import color"
   ]
  },
  {
   "cell_type": "code",
   "execution_count": 3,
   "metadata": {
    "collapsed": true
   },
   "outputs": [],
   "source": [
    "# Loaded a set of images\n",
    "root_dir = \"training/\"\n",
    "image_dir = root_dir + \"images/\"\n",
    "gt_dir = root_dir + \"groundtruth/\""
   ]
  },
  {
   "cell_type": "code",
   "execution_count": 4,
   "metadata": {
    "collapsed": true
   },
   "outputs": [],
   "source": [
    "files = os.listdir(image_dir)"
   ]
  },
  {
   "cell_type": "code",
   "execution_count": 5,
   "metadata": {
    "collapsed": true
   },
   "outputs": [],
   "source": [
    "def load_image(infilename):\n",
    "    data = mpimg.imread(infilename)\n",
    "    return data"
   ]
  },
  {
   "cell_type": "code",
   "execution_count": 6,
   "metadata": {
    "collapsed": false
   },
   "outputs": [
    {
     "name": "stdout",
     "output_type": "stream",
     "text": [
      "satImage_001.png\n",
      "satImage_001.png\n"
     ]
    }
   ],
   "source": [
    "imgs = [load_image(image_dir + files[i]) for i in range(len(files))]\n",
    "print(files[0])\n",
    "\n",
    "gt_imgs = [load_image(gt_dir + files[i]) for i in range(len(files))]\n",
    "print(files[0])\n",
    "\n",
    "# n = 10 # Only use 10 images for training"
   ]
  },
  {
   "cell_type": "code",
   "execution_count": 7,
   "metadata": {
    "collapsed": false
   },
   "outputs": [
    {
     "data": {
      "text/plain": [
       "array([ 0.01682088,  0.01457394,  0.01222468], dtype=float32)"
      ]
     },
     "execution_count": 7,
     "metadata": {},
     "output_type": "execute_result"
    }
   ],
   "source": [
    "np.var(imgs[0][0:16, 0:16, :], axis=(0,1))"
   ]
  },
  {
   "cell_type": "code",
   "execution_count": 8,
   "metadata": {
    "collapsed": true
   },
   "outputs": [],
   "source": [
    "# Extract patches from input images\n",
    "patch_size = 16 # each patch is 16*16 pixels"
   ]
  },
  {
   "cell_type": "code",
   "execution_count": 40,
   "metadata": {
    "collapsed": true
   },
   "outputs": [],
   "source": [
    "def calc_variance(img):\n",
    "    width = img.shape[0]\n",
    "    height = img.shape[1]\n",
    "    \n",
    "    pw = int(width/patch_size)\n",
    "    ph = int(height/patch_size)\n",
    "    \n",
    "    patch_number = pw*ph\n",
    "    \n",
    "    var_list1 = np.zeros((patch_number, 3))# 3 because RGB\n",
    "    t = 0   \n",
    "    for j in range(1, int(len(img)/patch_size+1)):\n",
    "        sub_img = img[(j-1)*patch_size:j*patch_size-1, :, :]\n",
    "        _var = np.var(sub_img, axis=(0, 1))\n",
    "        for k in range(pw): # because img is squared\n",
    "            var_list1[t+k][0] = _var[0]\n",
    "            var_list1[t+k][1] = _var[1]\n",
    "            var_list1[t+k][2] = _var[2]\n",
    "        t+=pw\n",
    "\n",
    "    var_list2 = np.zeros((patch_number, 3))\n",
    "    t = 0\n",
    "    for j in range(1, int(len(img[0])/patch_size+1)):\n",
    "        sub_img = img[:, (j-1)*patch_size:j*patch_size-1, :]\n",
    "        _var = np.var(sub_img, axis=(0,1))\n",
    "        for k in range(pw):\n",
    "            var_list2[t+pw*k][0] = _var[0]\n",
    "            var_list2[t+pw*k][1] = _var[1]\n",
    "            var_list2[t+pw*k][2] = _var[2]\n",
    "        t+=1\n",
    "\n",
    "    return var_list1, var_list2"
   ]
  },
  {
   "cell_type": "code",
   "execution_count": 9,
   "metadata": {
    "collapsed": false
   },
   "outputs": [],
   "source": [
    "var_1 = None\n",
    "var_2 = None\n",
    "\n",
    "for i,img in enumerate(imgs):\n",
    "    var_list1, var_list2 = calc_variance(img)\n",
    "    \n",
    "    if var_1 is None:\n",
    "        var_1 = var_list1\n",
    "    else:\n",
    "        var_1 = np.concatenate((var_1, var_list1), axis=0)\n",
    "\n",
    "    if var_2 is None:\n",
    "        var_2 = var_list2\n",
    "    else:\n",
    "        var_2 = np.concatenate((var_2, var_list2), axis=0)"
   ]
  },
  {
   "cell_type": "code",
   "execution_count": 10,
   "metadata": {
    "collapsed": false
   },
   "outputs": [
    {
     "data": {
      "text/plain": [
       "((62500, 3), (62500, 3))"
      ]
     },
     "execution_count": 10,
     "metadata": {},
     "output_type": "execute_result"
    }
   ],
   "source": [
    "var_1.shape, var_2.shape"
   ]
  },
  {
   "cell_type": "code",
   "execution_count": 11,
   "metadata": {
    "collapsed": true
   },
   "outputs": [],
   "source": [
    "def img_crop(im, w, h):\n",
    "    list_patches = []\n",
    "    imgwidth = im.shape[0]\n",
    "    imgheight = im.shape[1]\n",
    "    is_2d = len(im.shape) < 3\n",
    "    for i in range(0,imgheight,h):\n",
    "        for j in range(0,imgwidth,w):\n",
    "            if is_2d:\n",
    "                im_patch = im[j:j+w, i:i+h]\n",
    "            else:\n",
    "                im_patch = im[j:j+w, i:i+h, :]\n",
    "            list_patches.append(im_patch)\n",
    "    return list_patches"
   ]
  },
  {
   "cell_type": "code",
   "execution_count": 12,
   "metadata": {
    "collapsed": false
   },
   "outputs": [
    {
     "data": {
      "text/plain": [
       "(400, 400, 3)"
      ]
     },
     "execution_count": 12,
     "metadata": {},
     "output_type": "execute_result"
    }
   ],
   "source": [
    "imgs[0].shape"
   ]
  },
  {
   "cell_type": "code",
   "execution_count": 13,
   "metadata": {
    "collapsed": true
   },
   "outputs": [],
   "source": [
    "img_patches = [img_crop(imgs[i], patch_size, patch_size) for i in range(len(imgs))]\n",
    "gt_patches = [img_crop(gt_imgs[i], patch_size, patch_size) for i in range(len(gt_imgs))]"
   ]
  },
  {
   "cell_type": "code",
   "execution_count": 14,
   "metadata": {
    "collapsed": false
   },
   "outputs": [
    {
     "data": {
      "text/plain": [
       "625"
      ]
     },
     "execution_count": 14,
     "metadata": {},
     "output_type": "execute_result"
    }
   ],
   "source": [
    "len(img_patches[0])"
   ]
  },
  {
   "cell_type": "code",
   "execution_count": 15,
   "metadata": {
    "collapsed": true
   },
   "outputs": [],
   "source": [
    "# Linearize list of patches\n",
    "img_patches = np.asarray([img_patches[i][j] for i in range(len(img_patches)) for j in range(len(img_patches[i]))])\n",
    "gt_patches =  np.asarray([gt_patches[i][j] for i in range(len(gt_patches)) for j in range(len(gt_patches[i]))])"
   ]
  },
  {
   "cell_type": "code",
   "execution_count": 16,
   "metadata": {
    "collapsed": true
   },
   "outputs": [],
   "source": [
    "def build_k_indices(N, k_fold, seed):\n",
    "    interval = int(N/k_fold)\n",
    "    np.random.seed(seed)\n",
    "    \n",
    "    indices = np.random.permutation(N)\n",
    "\n",
    "    k_indices = None\n",
    "    if N%k_fold == 0:\n",
    "        k_indices = [indices[k * interval: (k + 1) * interval] for k in range(k_fold)]\n",
    "    else:\n",
    "        k_indices = [indices[k * interval: (k + 1) * interval] for k in range(k_fold-1)]\n",
    "        k_indices.append(indices[(k_fold-1)*interval : N])\n",
    "    return np.array(k_indices)"
   ]
  },
  {
   "cell_type": "code",
   "execution_count": 17,
   "metadata": {
    "collapsed": true
   },
   "outputs": [],
   "source": [
    "from sklearn import linear_model"
   ]
  },
  {
   "cell_type": "code",
   "execution_count": 18,
   "metadata": {
    "collapsed": true
   },
   "outputs": [],
   "source": [
    "foreground_threshold = 0.25\n",
    "\n",
    "def value_to_class(v):\n",
    "    df = np.sum(v)\n",
    "    if df > foreground_threshold:\n",
    "        return 1\n",
    "    else:\n",
    "        return 0"
   ]
  },
  {
   "cell_type": "code",
   "execution_count": 19,
   "metadata": {
    "collapsed": true
   },
   "outputs": [],
   "source": [
    "# Extract 6-dimensional features consisting of average RGB color as well as variance\n",
    "def extract_features(img):\n",
    "    feat_m = np.mean(img, axis=(0,1))\n",
    "    feat_v = np.var(img, axis=(0,1))\n",
    "    feat = np.append(feat_m, feat_v)\n",
    "    return feat\n",
    "\n",
    "# Extract features for a given image\n",
    "def extract_img_features(filename):\n",
    "    img = load_image(filename)\n",
    "    img_patches = img_crop(img, patch_size, patch_size)\n",
    "    X = np.asarray([ extract_features(img_patches[i]) for i in range(len(img_patches))])\n",
    "    return X\n",
    "\n",
    "# Extract 2-dimensional features consisting of average gray color as well as variance\n",
    "def extract_features_2d(img):\n",
    "    feat_m = np.mean(img)\n",
    "    feat_v = np.var(img)\n",
    "    feat = np.append(feat_m, feat_v)\n",
    "    return feat\n",
    "\n",
    "# Extract features for a given image\n",
    "def extract_img_features_2d(filename):\n",
    "    img = load_image(filename)\n",
    "    img_patches = img_crop(img, patch_size, patch_size)\n",
    "    X = np.asarray([ extract_features_2d(img_patches[i]) for i in range(len(img_patches))])\n",
    "    return X"
   ]
  },
  {
   "cell_type": "code",
   "execution_count": 20,
   "metadata": {
    "collapsed": true
   },
   "outputs": [],
   "source": [
    "_X = np.asarray([extract_features(img_patches[i]) for i in range(len(img_patches))])\n",
    "_Y = np.asarray([value_to_class(np.mean(gt_patches[i])) for i in range(len(gt_patches))])"
   ]
  },
  {
   "cell_type": "code",
   "execution_count": 21,
   "metadata": {
    "collapsed": false
   },
   "outputs": [],
   "source": [
    "_X = np.concatenate((_X, var_1), axis=1)\n",
    "_X = np.concatenate((_X, var_2), axis=1)"
   ]
  },
  {
   "cell_type": "code",
   "execution_count": 22,
   "metadata": {
    "collapsed": false
   },
   "outputs": [
    {
     "data": {
      "text/plain": [
       "array([ 0.20173095,  0.19924933,  0.1725031 ,  0.01682088,  0.01457394,\n",
       "        0.01222468,  0.02798188,  0.0251555 ,  0.02235184,  0.02523539,\n",
       "        0.02266903,  0.02077884])"
      ]
     },
     "execution_count": 22,
     "metadata": {},
     "output_type": "execute_result"
    }
   ],
   "source": [
    "_X[0]"
   ]
  },
  {
   "cell_type": "code",
   "execution_count": 23,
   "metadata": {
    "collapsed": false
   },
   "outputs": [
    {
     "data": {
      "text/plain": [
       "array([ 0.33298144,  0.33009384,  0.29579793,  0.02087233,  0.01970943,\n",
       "        0.0183594 ,  0.03182798,  0.03009861,  0.02939435,  0.03189126,\n",
       "        0.03027163,  0.02952683])"
      ]
     },
     "execution_count": 23,
     "metadata": {},
     "output_type": "execute_result"
    }
   ],
   "source": [
    "np.mean(_X, axis=0)"
   ]
  },
  {
   "cell_type": "code",
   "execution_count": 24,
   "metadata": {
    "collapsed": true
   },
   "outputs": [],
   "source": [
    "from sklearn.metrics import recall_score, precision_score"
   ]
  },
  {
   "cell_type": "code",
   "execution_count": 25,
   "metadata": {
    "collapsed": true
   },
   "outputs": [],
   "source": [
    "def cross_validation(X, Y, k_indices, k, model):\n",
    "    \n",
    "    testing_im = X[k_indices[k]].tolist()\n",
    "    testing_gt = Y[k_indices[k]].tolist()\n",
    "    \n",
    "    training_im = []\n",
    "    training_gt = []\n",
    "    for j in range(len(k_indices)):\n",
    "        if j != k:\n",
    "            training_im += X[k_indices[j]].tolist()\n",
    "            training_gt += Y[k_indices[j]].tolist()\n",
    "\n",
    "    model.fit(training_im, training_gt)\n",
    "    prediction = model.predict(testing_im)\n",
    "    \n",
    "    #TODO: refactor\n",
    "    testing_gt = np.array(testing_gt)\n",
    "    fp = calc_fp(prediction, testing_gt)\n",
    "    fn = calc_fn(prediction, testing_gt)\n",
    "    tp = calc_tp(prediction, testing_gt)\n",
    "    \n",
    "    print(fp, tp, fn)\n",
    "    r = recall(tp, fn)\n",
    "    p = precision(tp, fp)\n",
    "    score = f_mean(p, r)\n",
    "    \n",
    "    return r, p, score"
   ]
  },
  {
   "cell_type": "code",
   "execution_count": 26,
   "metadata": {
    "collapsed": true
   },
   "outputs": [],
   "source": [
    "def cross_validation_demo(model):\n",
    "    seed = 1\n",
    "    k_fold = 4\n",
    "    \n",
    "    k_indices = build_k_indices(img_patches.shape[0], k_fold, seed)\n",
    "\n",
    "    res = []\n",
    "    for k in range(k_fold):\n",
    "        res.append(cross_validation(_X, _Y, k_indices, k, model))\n",
    "    return res"
   ]
  },
  {
   "cell_type": "code",
   "execution_count": 33,
   "metadata": {
    "collapsed": false
   },
   "outputs": [
    {
     "name": "stdout",
     "output_type": "stream",
     "text": [
      "5168 2752 1325\n",
      "5196 2792 1261\n",
      "5175 2713 1355\n",
      "5102 2747 1246\n"
     ]
    },
    {
     "data": {
      "text/plain": [
       "[(0.6750061319597743, 0.3474747474747475, 0.4587813620071684),\n",
       " (0.6888724401677769, 0.34952428642964445, 0.4637488580682667),\n",
       " (0.6669124877089478, 0.3439401622718053, 0.453830712612914),\n",
       " (0.6879539193588781, 0.3499808892852593, 0.4639419017057929)]"
      ]
     },
     "execution_count": 33,
     "metadata": {},
     "output_type": "execute_result"
    }
   ],
   "source": [
    "model = linear_model.LogisticRegression(C=1e5, class_weight=\"balanced\")\n",
    "Z = cross_validation_demo(model)\n",
    "Z"
   ]
  },
  {
   "cell_type": "code",
   "execution_count": 34,
   "metadata": {
    "collapsed": false
   },
   "outputs": [
    {
     "data": {
      "text/plain": [
       "LogisticRegression(C=100000.0, class_weight='balanced', dual=False,\n",
       "          fit_intercept=True, intercept_scaling=1, max_iter=100,\n",
       "          multi_class='ovr', n_jobs=1, penalty='l2', random_state=None,\n",
       "          solver='liblinear', tol=0.0001, verbose=0, warm_start=False)"
      ]
     },
     "execution_count": 34,
     "metadata": {},
     "output_type": "execute_result"
    }
   ],
   "source": [
    "model.fit(_X, _Y)"
   ]
  },
  {
   "cell_type": "code",
   "execution_count": 28,
   "metadata": {
    "collapsed": true
   },
   "outputs": [],
   "source": [
    "def calc_tp(pred, true):\n",
    "    p1 = np.where(pred == 1)\n",
    "    t1 = np.where(true == 1)\n",
    "    \n",
    "    tp = set(p1[0].tolist()) & set(t1[0].tolist())\n",
    "    return len(tp)"
   ]
  },
  {
   "cell_type": "code",
   "execution_count": 29,
   "metadata": {
    "collapsed": true
   },
   "outputs": [],
   "source": [
    "def calc_fn(pred, true):\n",
    "    p0 = np.where(pred == 0)\n",
    "    t1 = np.where(true == 1)\n",
    "    \n",
    "    fn = set(p0[0].tolist()) & set(t1[0].tolist())\n",
    "    return len(fn)"
   ]
  },
  {
   "cell_type": "code",
   "execution_count": 30,
   "metadata": {
    "collapsed": false
   },
   "outputs": [],
   "source": [
    "recall = lambda tp, fn: tp/(tp + fn)\n",
    "precision = lambda tp, fp: tp/(tp + fp)\n",
    "f_mean = lambda p, r: 2*p*r/(p+r)"
   ]
  },
  {
   "cell_type": "code",
   "execution_count": 31,
   "metadata": {
    "collapsed": true
   },
   "outputs": [],
   "source": [
    "def calc_fp(pred, true):\n",
    "    p1 = np.where(pred == 1)\n",
    "    t0 = np.where(true == 0)\n",
    "    \n",
    "    fp = set(p1[0].tolist()) & set(t0[0].tolist())\n",
    "    return len(fp)"
   ]
  },
  {
   "cell_type": "code",
   "execution_count": 32,
   "metadata": {
    "collapsed": true
   },
   "outputs": [],
   "source": [
    "# Convert array of labels to an image\n",
    "\n",
    "def label_to_img(imgwidth, imgheight, w, h, labels):\n",
    "    im = np.zeros([imgwidth, imgheight])\n",
    "    idx = 0\n",
    "    for i in range(0,imgheight,h):\n",
    "        for j in range(0,imgwidth,w):\n",
    "            im[j:j+w, i:i+h] = labels[idx]\n",
    "            idx = idx + 1\n",
    "    return im"
   ]
  },
  {
   "cell_type": "code",
   "execution_count": 41,
   "metadata": {
    "collapsed": false
   },
   "outputs": [
    {
     "data": {
      "text/plain": [
       "<matplotlib.collections.PathCollection at 0x205c8122278>"
      ]
     },
     "execution_count": 41,
     "metadata": {},
     "output_type": "execute_result"
    },
    {
     "data": {
      "image/png": "[encoded data removed]",
      "text/plain": [
       "<matplotlib.figure.Figure at 0x205c2e68ba8>"
      ]
     },
     "metadata": {},
     "output_type": "display_data"
    }
   ],
   "source": [
    "# Run prediction on the img_idx-th image\n",
    "img_idx = 12\n",
    "\n",
    "image_dir = \"test_set_images/\"  + \"test_\" + str(img_idx) +\"/\"\n",
    "file = os.listdir(image_dir)[0]\n",
    "Xi = extract_img_features(image_dir+file)\n",
    "varlist1, varlist2 = calc_variance(load_image(image_dir+file))\n",
    "\n",
    "Xi = np.concatenate((Xi, varlist1), axis=1)\n",
    "Xi = np.concatenate((Xi, varlist2), axis=1)\n",
    "\n",
    "Zi = model.predict(Xi)\n",
    "plt.scatter(Xi[:, 4], Xi[:, 5], c=Zi, edgecolors='k', cmap=plt.cm.Paired)"
   ]
  },
  {
   "cell_type": "code",
   "execution_count": 45,
   "metadata": {
    "collapsed": false
   },
   "outputs": [],
   "source": [
    "from mask_to_submission import *"
   ]
  },
  {
   "cell_type": "code",
   "execution_count": 46,
   "metadata": {
    "collapsed": false
   },
   "outputs": [],
   "source": [
    "import scipy.misc"
   ]
  },
  {
   "cell_type": "code",
   "execution_count": 43,
   "metadata": {
    "collapsed": false
   },
   "outputs": [],
   "source": [
    "PIXEL_DEPTH = 255\n",
    "def img_float_to_uint8(img):\n",
    "    rimg = img - np.min(img)\n",
    "    rimg = (rimg / np.max(rimg) * PIXEL_DEPTH).round().astype(np.uint8)\n",
    "    return rimg\n",
    "\n",
    "\n",
    "def make_img_overlay(img, predicted_img):\n",
    "    w = img.shape[0]\n",
    "    h = img.shape[1]\n",
    "    color_mask = np.zeros((w, h, 3), dtype=np.uint8)\n",
    "    color_mask[:,:,0] = predicted_img*PIXEL_DEPTH\n",
    "\n",
    "    img8 = img_float_to_uint8(img)\n",
    "    background = Image.fromarray(img8, 'RGB').convert(\"RGBA\")\n",
    "    overlay = Image.fromarray(color_mask, 'RGB').convert(\"RGBA\")\n",
    "    new_img = Image.blend(background, overlay, 0.2)\n",
    "    return new_img"
   ]
  },
  {
   "cell_type": "code",
   "execution_count": 47,
   "metadata": {
    "collapsed": false
   },
   "outputs": [],
   "source": [
    "w = img.shape[0]\n",
    "h = img.shape[1]\n",
    "test_dir = './testing/groundtruth/'\n",
    "test_overlay_dir = './testing/overlay/'\n",
    "\n",
    "if not os.path.exists(test_dir):\n",
    "    os.makedirs(test_dir)\n",
    "    \n",
    "if not os.path.exists(test_overlay_dir):\n",
    "    os.makedirs(test_overlay_dir)    \n",
    "\n",
    "for i in range(1,51):\n",
    "    image_dir = \"./test_set_images/\"  + \"test_\" + str(i) +\"/\"\n",
    "    file = os.listdir(image_dir)[0]\n",
    "    Xi = extract_img_features(image_dir+file)\n",
    "    \n",
    "    varlist1, varlist2 = calc_variance(load_image(image_dir+file))\n",
    "\n",
    "    Xi = np.concatenate((Xi, varlist1), axis=1)\n",
    "    Xi = np.concatenate((Xi, varlist2), axis=1)\n",
    "    \n",
    "    Zi = model.predict(Xi)\n",
    "\n",
    "    predicted_im = label_to_img(w, h, patch_size, patch_size, Zi)\n",
    "\n",
    "    img = load_image(\"./test_set_images/\"  + \"test_\" + str(i) +\"/test_{0}.png\".format(i))\n",
    "    new_img = make_img_overlay(img, predicted_im)\n",
    "    \n",
    "    img_file_name = test_dir + 'satImage_' + '%.3d'%i + '.png'\n",
    "    img_overlay_name = test_overlay_dir + 'satImage_' + '%.3d'%i + '.png'\n",
    "    scipy.misc.imsave(img_overlay_name, new_img)\n",
    "    scipy.misc.imsave(img_file_name, predicted_im)"
   ]
  },
  {
   "cell_type": "code",
   "execution_count": 48,
   "metadata": {
    "collapsed": false
   },
   "outputs": [],
   "source": [
    "submission_filename = 'dummy_submission.csv'\n",
    "image_filenames = []\n",
    "for i in range(1, 51):\n",
    "    image_filename = 'testing/groundtruth/satImage_' + '%.3d' % i + '.png'\n",
    "    image_filenames.append(image_filename)\n",
    "masks_to_submission(submission_filename, *image_filenames)"
   ]
  }
 ],
 "metadata": {
  "anaconda-cloud": {},
  "kernelspec": {
   "display_name": "Python [Root]",
   "language": "python",
   "name": "Python [Root]"
  },
  "language_info": {
   "codemirror_mode": {
    "name": "ipython",
    "version": 3
   },
   "file_extension": ".py",
   "mimetype": "text/x-python",
   "name": "python",
   "nbconvert_exporter": "python",
   "pygments_lexer": "ipython3",
   "version": "3.5.2"
  }
 },
 "nbformat": 4,
 "nbformat_minor": 0
}
